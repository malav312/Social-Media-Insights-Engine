{
 "cells": [
  {
   "cell_type": "code",
   "execution_count": 2,
   "metadata": {},
   "outputs": [],
   "source": [
    "import pandas as pd\n",
    "import json\n"
   ]
  },
  {
   "cell_type": "code",
   "execution_count": 3,
   "metadata": {},
   "outputs": [],
   "source": [
    "#1.1 Function for parsing json and getting dataframe\n",
    "def parse_creator_data(creator_data):\n",
    "    user_profile = creator_data[\"user_profile\"]\n",
    "    original_post = creator_data[\"original_post\"]\n",
    "    social_media = creator_data[\"social_media\"]\n",
    "    posts_info = pd.DataFrame(creator_data[\"posts_info\"])  # Convert posts to DataFrame\n",
    "\n",
    "    return {\n",
    "        \"user_profile\": user_profile,\n",
    "        \"original_post\": original_post,\n",
    "        \"social_media\": social_media,\n",
    "        \"posts_info\": posts_info\n",
    "    }\n",
    "def parse_data(data_file):\n",
    "    with open(data_file, \"r\") as file:\n",
    "        data = json.load(file)\n",
    "    return [parse_creator_data(creator) for creator in data] "
   ]
  },
  {
   "cell_type": "code",
   "execution_count": 4,
   "metadata": {},
   "outputs": [],
   "source": [
    "df = parse_data(\"user_info.json\")"
   ]
  },
  {
   "cell_type": "code",
   "execution_count": 83,
   "metadata": {},
   "outputs": [
    {
     "data": {
      "text/plain": [
       "1    Replying to @Samantha Irvin here are some Chri...\n",
       "Name: description, dtype: object"
      ]
     },
     "execution_count": 83,
     "metadata": {},
     "output_type": "execute_result"
    }
   ],
   "source": [
    "df[0][\"posts_info\"][\"description\"].tail()"
   ]
  },
  {
   "cell_type": "code",
   "execution_count": 16,
   "metadata": {},
   "outputs": [],
   "source": [
    "# 1.3 Function for filtering data by follower count and retruning usernames\n",
    "def filter_by_follower_count(data, min_followers, max_followers):\n",
    "    return [creator[\"user_profile\"][\"username\"] for creator in data if min_followers <= creator[\"user_profile\"][\"tiktok_followers\"] <= max_followers]"
   ]
  },
  {
   "cell_type": "code",
   "execution_count": 19,
   "metadata": {},
   "outputs": [],
   "source": [
    "#1.4 Function for filtering data by post count and returning usernames\n",
    "def filter_by_post_count(data, min_posts, max_posts):\n",
    "    return [creator[\"user_profile\"][\"username\"] for creator in data if min_posts <= creator[\"posts_info\"].shape[0] <= max_posts]"
   ]
  },
  {
   "cell_type": "code",
   "execution_count": 28,
   "metadata": {},
   "outputs": [],
   "source": [
    "#1.5 Filter by average video views and return usernames\n",
    "def filter_by_average_video_views(data, min_views, max_views):\n",
    "    return [creator[\"user_profile\"][\"username\"] for creator in data if min_views <= creator[\"posts_info\"][\"views\"].mean() <= max_views]"
   ]
  },
  {
   "cell_type": "code",
   "execution_count": 11,
   "metadata": {},
   "outputs": [],
   "source": [
    "#1.2 Function for getting the number of posts for each creator\n",
    "def get_num_posts(data):\n",
    "    return [len(creator[\"posts_info\"]) for creator in data]"
   ]
  },
  {
   "cell_type": "code",
   "execution_count": 24,
   "metadata": {},
   "outputs": [],
   "source": [
    "def filter_creators(creators, min_followers=None, max_followers=None, keyword=None):\n",
    "    filtered_creators = []\n",
    "    for creator in creators:\n",
    "        filtered_posts = filter_posts(creator[\"posts_info\"], keyword)  # Filter each creator's posts\n",
    "        if filtered_posts.empty:\n",
    "            continue  # Skip creators with no matching posts\n",
    "        creator[\"posts_info\"] = filtered_posts  # Update filtered posts\n",
    "        filtered_creators.append(creator)\n",
    "    return filtered_creators\n",
    "\n",
    "def filter_posts(posts_df, keyword=None):\n",
    "    if not keyword:\n",
    "        return posts_df.copy()  # Return all posts if no keyword provided\n",
    "\n",
    "    # Search for keyword case-insensitively in the 'description' column\n",
    "    filtered_df = posts_df[posts_df[\"description\"].str.contains(keyword, case=False)]\n",
    "\n",
    "    # Optionally, filter by keyword in other relevant t like 'user_profile' if needed\n",
    "    # Add necessary conditions here if applicable\n",
    "\n",
    "    return filtered_df"
   ]
  },
  {
   "cell_type": "code",
   "execution_count": 21,
   "metadata": {},
   "outputs": [],
   "source": [
    "#get username of all creators\n",
    "usernames = [creator[\"user_profile\"][\"username\"] for creator in df]"
   ]
  },
  {
   "cell_type": "code",
   "execution_count": 34,
   "metadata": {},
   "outputs": [],
   "source": [
    "# Function for filtering based on keyword present in the bio\n",
    "def filter_by_bio_keyword(data, keyword):\n",
    "    return [creator[\"user_profile\"][\"username\"] for creator in data if keyword in creator[\"user_profile\"][\"tiktok_bio\"]]"
   ]
  },
  {
   "cell_type": "code",
   "execution_count": 85,
   "metadata": {},
   "outputs": [
    {
     "data": {
      "text/plain": [
       "['lucindapikkat', 'whoisthecookbook', 'thesolesupplier', 'loopedlaces']"
      ]
     },
     "execution_count": 85,
     "metadata": {},
     "output_type": "execute_result"
    }
   ],
   "source": [
    "filter_by_bio_keyword(df, \"news\")"
   ]
  },
  {
   "cell_type": "code",
   "execution_count": 91,
   "metadata": {},
   "outputs": [],
   "source": [
    "#create a function to filter by keyword in the description of the posts\n",
    "def filter_by_post_keyword(data, keyword):\n",
    "    return [creator[\"posts_info\"][\"url\"] for creator in data if keyword in creator[\"posts_info\"][\"description\"].to_string()]"
   ]
  },
  {
   "cell_type": "code",
   "execution_count": 92,
   "metadata": {},
   "outputs": [
    {
     "data": {
      "text/plain": [
       "[0    https://www.tiktok.com/@jaysnrks/video/7294422...\n",
       " 1    https://www.tiktok.com/@jaysnrks/video/7292262...\n",
       " 2    https://www.tiktok.com/@jaysnrks/video/7309994...\n",
       " 3    https://www.tiktok.com/@jaysnrks/video/7309643...\n",
       " 4    https://www.tiktok.com/@jaysnrks/video/7309633...\n",
       " 5    https://www.tiktok.com/@jaysnrks/video/7309224...\n",
       " 6    https://www.tiktok.com/@jaysnrks/video/7308209...\n",
       " Name: url, dtype: object]"
      ]
     },
     "execution_count": 92,
     "metadata": {},
     "output_type": "execute_result"
    }
   ],
   "source": [
    "filter_by_post_keyword(df, \"spend\")"
   ]
  },
  {
   "cell_type": "code",
   "execution_count": 59,
   "metadata": {},
   "outputs": [],
   "source": [
    "#1.6 Function for getting the average number of views for each creator given username\n",
    "def get_average_views(data, username):\n",
    "    for creator in data:\n",
    "        if creator[\"user_profile\"][\"username\"] == username:\n",
    "            return creator[\"posts_info\"][\"views\"].mean()\n",
    "    return None\n",
    "\n"
   ]
  },
  {
   "cell_type": "code",
   "execution_count": 60,
   "metadata": {},
   "outputs": [
    {
     "data": {
      "text/plain": [
       "77593.25"
      ]
     },
     "execution_count": 60,
     "metadata": {},
     "output_type": "execute_result"
    }
   ],
   "source": [
    "get_average_views(df, \"lucindapikkat\")"
   ]
  },
  {
   "cell_type": "code",
   "execution_count": 63,
   "metadata": {},
   "outputs": [],
   "source": [
    "# get filter based on likes of post and return username and url in post_info\n",
    "def filter_by_likes(data, min_likes, max_likes):\n",
    "    filtered_creators = []\n",
    "    for creator in data:\n",
    "        filtered_posts = creator[\"posts_info\"][(creator[\"posts_info\"][\"likes\"] >= min_likes) & (creator[\"posts_info\"][\"likes\"] <= max_likes)]\n",
    "        if not filtered_posts.empty:\n",
    "            creator[\"posts_info\"] = filtered_posts\n",
    "            filtered_creators.append(creator[\"user_profile\"][\"username\"])\n",
    "    return filtered_creators\n"
   ]
  }
 ],
 "metadata": {
  "kernelspec": {
   "display_name": "Python 3",
   "language": "python",
   "name": "python3"
  },
  "language_info": {
   "codemirror_mode": {
    "name": "ipython",
    "version": 3
   },
   "file_extension": ".py",
   "mimetype": "text/x-python",
   "name": "python",
   "nbconvert_exporter": "python",
   "pygments_lexer": "ipython3",
   "version": "3.8.10"
  }
 },
 "nbformat": 4,
 "nbformat_minor": 2
}
